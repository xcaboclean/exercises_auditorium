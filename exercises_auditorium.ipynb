{
  "nbformat": 4,
  "nbformat_minor": 0,
  "metadata": {
    "colab": {
      "provenance": [],
      "authorship_tag": "ABX9TyNiLLbBz95T5Mk3yTCsLLrt",
      "include_colab_link": true
    },
    "kernelspec": {
      "name": "python3",
      "display_name": "Python 3"
    },
    "language_info": {
      "name": "python"
    }
  },
  "cells": [
    {
      "cell_type": "markdown",
      "metadata": {
        "id": "view-in-github",
        "colab_type": "text"
      },
      "source": [
        "<a href=\"https://colab.research.google.com/github/xcaboclean/exercises_auditorium/blob/main/exercises_auditorium.ipynb\" target=\"_parent\"><img src=\"https://colab.research.google.com/assets/colab-badge.svg\" alt=\"Open In Colab\"/></a>"
      ]
    },
    {
      "cell_type": "markdown",
      "source": [
        "LESSON 16 - DAY 5 - AVERAGE HEIGHT\n",
        "\n",
        "\n",
        "Instructions\n",
        "\n",
        "You are going to write a program that calculates the average student height from a List of heights.\n",
        "\n",
        "e.g. student_heights = [180, 124, 165, 173, 189, 169, 146]\n",
        "\n",
        "The average height can be calculated by adding all the heights together and dividing by the total number of heights.\n",
        "\n",
        "e.g.\n",
        "\n",
        "180 + 124 + 165 + 173 + 189 + 169 + 146 = 1146\n",
        "\n",
        "There are a total of 7 heights in student_heights\n",
        "\n",
        "1146 ÷ 7 = 163.71428571428572\n",
        "\n",
        "Average height rounded to the nearest whole number = 164\n",
        "\n",
        "Important You should not use the sum() or len() functions in your answer. You should try to replicate their functionality using what you have learnt about for loops.\n",
        "Example Input 1\n",
        "\n",
        "156 178 165 171 187\n",
        "\n",
        "In this case, student_heights would be a list that looks like: [156, 178, 165, 171, 187]\n",
        "Example Output 1\n",
        "\n",
        "total height = 857\n",
        "number of students = 5\n",
        "average height = 171\n",
        "\n",
        "Example Input 2\n",
        "\n",
        "151 145 179\n",
        "\n",
        "Example Output 2\n",
        "\n",
        "total height = 475\n",
        "number of students = 3\n",
        "average height = 158\n",
        "\n",
        "\n"
      ],
      "metadata": {
        "id": "sNDDU8A3HHgG"
      }
    },
    {
      "cell_type": "code",
      "execution_count": null,
      "metadata": {
        "colab": {
          "base_uri": "https://localhost:8080/"
        },
        "id": "Ipo3CV2QHAk0",
        "outputId": "ff08e611-d6f2-4168-b330-5349e4e3a04c"
      },
      "outputs": [
        {
          "output_type": "stream",
          "name": "stdout",
          "text": [
            "180 124 165 173 189 169 146\n",
            "total height = 1146\n",
            "number of students = 7 \n",
            "average height = 164\n"
          ]
        }
      ],
      "source": [
        "# Input a Python list of student heights\n",
        "student_heights = input().split()\n",
        "for n in range(0, len(student_heights)):\n",
        "  student_heights[n] = int(student_heights[n])\n",
        "# 🚨 Don't change the code above 👆\n",
        "\n",
        "# Write your code below this row 👇\n",
        "sum_heights = 0\n",
        "number_students = len(student_heights)\n",
        "for height in student_heights:\n",
        " sum_heights += height\n",
        "\n",
        "average_students = round(sum_heights / number_students)\n",
        "\n",
        "print(f\"total height = {sum_heights}\")\n",
        "print(f\"number of students = {number_students} \")\n",
        "print(f\"average height = {average_students}\")"
      ]
    },
    {
      "cell_type": "markdown",
      "source": [
        "LESSON 17 - DAY 5 - HIGH SCORE\n",
        "\n",
        "Instructions\n",
        "\n",
        "You are going to write a program that calculates the highest score from a List of scores.\n",
        "\n",
        "e.g. student_scores = [78, 65, 89, 86, 55, 91, 64, 89]\n",
        "\n",
        "Important you are not allowed to use the max or min functions. The output words must match the example. i.e\n",
        "\n",
        "The highest score in the class is: x\n",
        "\n",
        "Example Input\n",
        "\n",
        "78 65 89 86 55 91 64 89\n",
        "\n",
        "In this case, student_scores would be a list that looks like: [78, 65, 89, 86, 55, 91, 64, 89]\n",
        "Example Output\n",
        "\n",
        "The highest score in the class is: 91\n",
        "\n"
      ],
      "metadata": {
        "id": "gzLX7YvbvBLy"
      }
    },
    {
      "cell_type": "code",
      "source": [
        "# Input a list of student scores\n",
        "student_scores = input().split()\n",
        "for n in range(0, len(student_scores)):\n",
        "  student_scores[n] = int(student_scores[n])\n",
        "\n",
        "# Write your code below this row 👇\n",
        "highest_score = 0\n",
        "for score in student_scores:\n",
        "  if score > highest_score:\n",
        "    highest_score = score\n",
        "\n",
        "print(f\"The highest score in the class is: {highest_score}\")"
      ],
      "metadata": {
        "colab": {
          "base_uri": "https://localhost:8080/"
        },
        "id": "_3VgsXxxvAjt",
        "outputId": "02ef3cae-8289-4c9c-f7cf-dce16f21b39a"
      },
      "execution_count": null,
      "outputs": [
        {
          "output_type": "stream",
          "name": "stdout",
          "text": [
            "78 65 89 86 55 91 64 89\n",
            "The highest score in the class is: 91\n"
          ]
        }
      ]
    },
    {
      "cell_type": "markdown",
      "source": [
        "LESSON 18 - DAY 5 - ADDING EVEN NUMBERS\n",
        "\n",
        "Instructions\n",
        "\n",
        "You are going to write a program that calculates the sum of all the even numbers from 1 to X. If X is 100 then the first even number would be 2 and the last one is 100:\n",
        "\n",
        "i.e. 2 + 4 + 6 + 8 +10 ... + 98 + 100\n",
        "\n",
        "Important, there should only be 1 print statement in your console output. It should just print the final total and not every step of the calculation.\n",
        "\n",
        "Also, we will constrain the inputs to only take numbers from 0 to a max of 1000.\n",
        "Example Input 1\n",
        "\n",
        "10\n",
        "\n",
        "Example Output 1\n",
        "\n",
        "30\n",
        "\n",
        "Example Input 2\n",
        "\n",
        "52\n",
        "\n",
        "Example Output 2\n",
        "\n",
        "702\n",
        "\n",
        "Hint\n",
        "\n",
        "There are quite a few ways of solving this problem, but you will need to use the range() function in any of the solutions.\n",
        "\n"
      ],
      "metadata": {
        "id": "Om22qwwsV-Qd"
      }
    },
    {
      "cell_type": "code",
      "source": [
        "target = int(input()) # Enter a number between 0 and 1000\n",
        "# 🚨 Do not change the code above ☝️\n",
        "\n",
        "sum_even = 0\n",
        "# Write your code here 👇\n",
        "for i in range (0, target+1,2):\n",
        "  if not (i % 2):\n",
        "    sum_even += i\n",
        "\n",
        "print(f\"{sum_even}\")"
      ],
      "metadata": {
        "id": "H3Oj6guaWDAh"
      },
      "execution_count": null,
      "outputs": []
    }
  ]
}