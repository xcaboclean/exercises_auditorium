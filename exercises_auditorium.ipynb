{
  "nbformat": 4,
  "nbformat_minor": 0,
  "metadata": {
    "colab": {
      "provenance": [],
      "authorship_tag": "ABX9TyMVN+ZEai7wHefZm7Fw+LIt",
      "include_colab_link": true
    },
    "kernelspec": {
      "name": "python3",
      "display_name": "Python 3"
    },
    "language_info": {
      "name": "python"
    }
  },
  "cells": [
    {
      "cell_type": "markdown",
      "metadata": {
        "id": "view-in-github",
        "colab_type": "text"
      },
      "source": [
        "<a href=\"https://colab.research.google.com/github/xcaboclean/exercises_auditorium/blob/main/exercises_auditorium.ipynb\" target=\"_parent\"><img src=\"https://colab.research.google.com/assets/colab-badge.svg\" alt=\"Open In Colab\"/></a>"
      ]
    },
    {
      "cell_type": "markdown",
      "source": [
        "LESSON 16 - DAY 5 - AVERAGE HEIGHT\n",
        "\n",
        "\n",
        "Instructions\n",
        "\n",
        "You are going to write a program that calculates the average student height from a List of heights.\n",
        "\n",
        "e.g. student_heights = [180, 124, 165, 173, 189, 169, 146]\n",
        "\n",
        "The average height can be calculated by adding all the heights together and dividing by the total number of heights.\n",
        "\n",
        "e.g.\n",
        "\n",
        "180 + 124 + 165 + 173 + 189 + 169 + 146 = 1146\n",
        "\n",
        "There are a total of 7 heights in student_heights\n",
        "\n",
        "1146 ÷ 7 = 163.71428571428572\n",
        "\n",
        "Average height rounded to the nearest whole number = 164\n",
        "\n",
        "Important You should not use the sum() or len() functions in your answer. You should try to replicate their functionality using what you have learnt about for loops.\n",
        "Example Input 1\n",
        "\n",
        "156 178 165 171 187\n",
        "\n",
        "In this case, student_heights would be a list that looks like: [156, 178, 165, 171, 187]\n",
        "Example Output 1\n",
        "\n",
        "total height = 857\n",
        "number of students = 5\n",
        "average height = 171\n",
        "\n",
        "Example Input 2\n",
        "\n",
        "151 145 179\n",
        "\n",
        "Example Output 2\n",
        "\n",
        "total height = 475\n",
        "number of students = 3\n",
        "average height = 158\n",
        "\n",
        "\n"
      ],
      "metadata": {
        "id": "sNDDU8A3HHgG"
      }
    },
    {
      "cell_type": "code",
      "execution_count": null,
      "metadata": {
        "colab": {
          "base_uri": "https://localhost:8080/"
        },
        "id": "Ipo3CV2QHAk0",
        "outputId": "ff08e611-d6f2-4168-b330-5349e4e3a04c"
      },
      "outputs": [
        {
          "output_type": "stream",
          "name": "stdout",
          "text": [
            "180 124 165 173 189 169 146\n",
            "total height = 1146\n",
            "number of students = 7 \n",
            "average height = 164\n"
          ]
        }
      ],
      "source": [
        "# Input a Python list of student heights\n",
        "student_heights = input().split()\n",
        "for n in range(0, len(student_heights)):\n",
        "  student_heights[n] = int(student_heights[n])\n",
        "# 🚨 Don't change the code above 👆\n",
        "\n",
        "# Write your code below this row 👇\n",
        "sum_heights = 0\n",
        "number_students = len(student_heights)\n",
        "for height in student_heights:\n",
        " sum_heights += height\n",
        "\n",
        "average_students = round(sum_heights / number_students)\n",
        "\n",
        "print(f\"total height = {sum_heights}\")\n",
        "print(f\"number of students = {number_students} \")\n",
        "print(f\"average height = {average_students}\")"
      ]
    },
    {
      "cell_type": "markdown",
      "source": [
        "LESSON 17 - DAY 5 - HIGH SCORE\n",
        "\n",
        "Instructions\n",
        "\n",
        "You are going to write a program that calculates the highest score from a List of scores.\n",
        "\n",
        "e.g. student_scores = [78, 65, 89, 86, 55, 91, 64, 89]\n",
        "\n",
        "Important you are not allowed to use the max or min functions. The output words must match the example. i.e\n",
        "\n",
        "The highest score in the class is: x\n",
        "\n",
        "Example Input\n",
        "\n",
        "78 65 89 86 55 91 64 89\n",
        "\n",
        "In this case, student_scores would be a list that looks like: [78, 65, 89, 86, 55, 91, 64, 89]\n",
        "Example Output\n",
        "\n",
        "The highest score in the class is: 91\n",
        "\n"
      ],
      "metadata": {
        "id": "gzLX7YvbvBLy"
      }
    },
    {
      "cell_type": "code",
      "source": [
        "# Input a list of student scores\n",
        "student_scores = input().split()\n",
        "for n in range(0, len(student_scores)):\n",
        "  student_scores[n] = int(student_scores[n])\n",
        "\n",
        "# Write your code below this row 👇\n",
        "highest_score = 0\n",
        "for score in student_scores:\n",
        "  if score > highest_score:\n",
        "    highest_score = score\n",
        "\n",
        "print(f\"The highest score in the class is: {highest_score}\")"
      ],
      "metadata": {
        "colab": {
          "base_uri": "https://localhost:8080/"
        },
        "id": "_3VgsXxxvAjt",
        "outputId": "02ef3cae-8289-4c9c-f7cf-dce16f21b39a"
      },
      "execution_count": null,
      "outputs": [
        {
          "output_type": "stream",
          "name": "stdout",
          "text": [
            "78 65 89 86 55 91 64 89\n",
            "The highest score in the class is: 91\n"
          ]
        }
      ]
    },
    {
      "cell_type": "markdown",
      "source": [
        "LESSON 18 - DAY 5 - ADDING EVEN NUMBERS\n",
        "\n",
        "Instructions\n",
        "\n",
        "You are going to write a program that calculates the sum of all the even numbers from 1 to X. If X is 100 then the first even number would be 2 and the last one is 100:\n",
        "\n",
        "i.e. 2 + 4 + 6 + 8 +10 ... + 98 + 100\n",
        "\n",
        "Important, there should only be 1 print statement in your console output. It should just print the final total and not every step of the calculation.\n",
        "\n",
        "Also, we will constrain the inputs to only take numbers from 0 to a max of 1000.\n",
        "Example Input 1\n",
        "\n",
        "10\n",
        "\n",
        "Example Output 1\n",
        "\n",
        "30\n",
        "\n",
        "Example Input 2\n",
        "\n",
        "52\n",
        "\n",
        "Example Output 2\n",
        "\n",
        "702\n",
        "\n",
        "Hint\n",
        "\n",
        "There are quite a few ways of solving this problem, but you will need to use the range() function in any of the solutions.\n",
        "\n"
      ],
      "metadata": {
        "id": "Om22qwwsV-Qd"
      }
    },
    {
      "cell_type": "code",
      "source": [
        "target = int(input()) # Enter a number between 0 and 1000\n",
        "# 🚨 Do not change the code above ☝️\n",
        "\n",
        "sum_even = 0\n",
        "# Write your code here 👇\n",
        "for i in range (0, target+1,2):\n",
        "    sum_even += i\n",
        "\n",
        "print(f\"{sum_even}\")"
      ],
      "metadata": {
        "id": "H3Oj6guaWDAh",
        "colab": {
          "base_uri": "https://localhost:8080/"
        },
        "outputId": "108304a8-0446-4563-e12c-d3f4f0b4f090"
      },
      "execution_count": null,
      "outputs": [
        {
          "output_type": "stream",
          "name": "stdout",
          "text": [
            "100\n",
            "2550\n"
          ]
        }
      ]
    },
    {
      "cell_type": "code",
      "source": [
        "LESSON 19 - DAY 5 - FIZZBUZZ\n",
        "\n",
        "You are going to write a program that automatically prints the solution to the FizzBuzz game. These are the rules of the FizzBuzz game:\n",
        "\n",
        "    Your program should print each number from 1 to 100 in turn and include number 100.\n",
        "\n",
        "    When the number is divisible by 3 then instead of printing the number it should print \"Fizz\".\n",
        "\n",
        "    When the number is divisible by 5, then instead of printing the number it should print \"Buzz\".`\n",
        "\n",
        "    And if the number is divisible by both 3 and 5 e.g. 15 then instead of the number it should print \"FizzBuzz\"\n",
        "\n",
        "e.g. it might start off like this:\n",
        "\n",
        "1\n",
        "2\n",
        "Fizz\n",
        "4\n",
        "Buzz\n",
        "Fizz\n",
        "7\n",
        "8\n",
        "Fizz\n",
        "Buzz\n",
        "11\n",
        "Fizz\n",
        "13\n",
        "14\n",
        "FizzBuzz\n",
        "\n",
        "...etc\n",
        "Hint\n",
        "\n",
        "    Remember your answer should start from 1 and go up to and including 100.\n",
        "\n",
        "    Each number/text should be printed on a separate line.\n",
        "\n"
      ],
      "metadata": {
        "id": "Im8F2avdZhc3"
      },
      "execution_count": null,
      "outputs": []
    },
    {
      "cell_type": "code",
      "source": [
        "# Write your code here 👇\n",
        "message = \"\"\n",
        "for number in range(1,101):\n",
        "  if (number % 3 == 0) and (number % 5 == 0):\n",
        "    message = \"FizzBuzz\"\n",
        "  elif number % 3 == 0:\n",
        "    message = \"Fizz\"\n",
        "  elif number % 5 == 0:\n",
        "    message = \"Buzz\"\n",
        "  else:\n",
        "    message = str(number)\n",
        "  print(message)"
      ],
      "metadata": {
        "id": "ST5Ts253ZqY1"
      },
      "execution_count": null,
      "outputs": []
    },
    {
      "cell_type": "markdown",
      "source": [],
      "metadata": {
        "id": "LLSlYirPZhNy"
      }
    },
    {
      "cell_type": "code",
      "source": [
        "import random\n",
        "\n",
        "chr(random.randint(127))"
      ],
      "metadata": {
        "colab": {
          "base_uri": "https://localhost:8080/",
          "height": 212
        },
        "id": "BYXcCfJmz68l",
        "outputId": "c442af82-d40d-40bc-fb84-30e3a04f2d96"
      },
      "execution_count": null,
      "outputs": [
        {
          "output_type": "error",
          "ename": "TypeError",
          "evalue": "ignored",
          "traceback": [
            "\u001b[0;31m---------------------------------------------------------------------------\u001b[0m",
            "\u001b[0;31mTypeError\u001b[0m                                 Traceback (most recent call last)",
            "\u001b[0;32m<ipython-input-3-d859d89c5dde>\u001b[0m in \u001b[0;36m<cell line: 3>\u001b[0;34m()\u001b[0m\n\u001b[1;32m      1\u001b[0m \u001b[0;32mimport\u001b[0m \u001b[0mrandom\u001b[0m\u001b[0;34m\u001b[0m\u001b[0;34m\u001b[0m\u001b[0m\n\u001b[1;32m      2\u001b[0m \u001b[0;34m\u001b[0m\u001b[0m\n\u001b[0;32m----> 3\u001b[0;31m \u001b[0mchr\u001b[0m\u001b[0;34m(\u001b[0m\u001b[0mrandom\u001b[0m\u001b[0;34m.\u001b[0m\u001b[0mrandint\u001b[0m\u001b[0;34m(\u001b[0m\u001b[0;36m127\u001b[0m\u001b[0;34m)\u001b[0m\u001b[0;34m)\u001b[0m\u001b[0;34m\u001b[0m\u001b[0;34m\u001b[0m\u001b[0m\n\u001b[0m",
            "\u001b[0;31mTypeError\u001b[0m: Random.randint() missing 1 required positional argument: 'b'"
          ]
        }
      ]
    },
    {
      "cell_type": "markdown",
      "source": [
        "LESSON 20 - DAY 8 - PAINT AREA CALCULATOR\n",
        "\n",
        "You are painting a wall. The instructions on the paint can says that 1 can of paint can cover 5 square meters of wall. Given a random height and width of wall, calculate how many cans of paint you'll need to buy.\n",
        "\n",
        "number of cans = (wall height x wall width) ÷ coverage per can.\n",
        "\n",
        "e.g. Height = 2, Width = 4, Coverage = 5\n",
        "\n",
        "number of cans = (2 \\* 4) / 5\n",
        "               = 1.6\n",
        "\n",
        "But because you can't buy 0.6 of a can of paint, the result should be rounded up to 2 cans.\n",
        "\n",
        "IMPORTANT: Notice the name of the function and parameters must match those on line 13 for the code to work.\n",
        "Example Input\n",
        "\n",
        "3\n",
        "9\n",
        "\n",
        "Example Output\n",
        "\n",
        "You'll need 6 cans of paint.\n",
        "\n",
        "Hint\n",
        "\n",
        "Stackoveflow link on how to round up a number: https://stackoverflow.com/questions/2356501/how-do-you-round-up-a-number-in-python\n"
      ],
      "metadata": {
        "id": "-RRgGWFAFnvl"
      }
    },
    {
      "cell_type": "code",
      "source": [
        "# Write your code below this line 👇\n",
        "import math\n",
        "def paint_calc(height, width, cover):\n",
        "    number_can = math.ceil((height*width)/cover)\n",
        "    print(f\"You'll need {number_can} cans of paint.\")\n",
        "\n",
        "\n",
        "# Write your code above this line 👆\n",
        "# Define a function called paint_calc() so the code below works.\n",
        "\n",
        "# 🚨 Don't change the code below 👇\n",
        "test_h = int(input()) # Height of wall (m)\n",
        "test_w = int(input()) # Width of wall (m)\n",
        "coverage = 5\n",
        "paint_calc(height=test_h, width=test_w, cover=coverage)\n"
      ],
      "metadata": {
        "colab": {
          "base_uri": "https://localhost:8080/"
        },
        "id": "dBFheAVfFnTm",
        "outputId": "acf3f95e-315c-4780-85a2-4ca41ab1d4ff"
      },
      "execution_count": 1,
      "outputs": [
        {
          "output_type": "stream",
          "name": "stdout",
          "text": [
            "20\n",
            "100\n",
            "You'll need 400 cans of paint.\n"
          ]
        }
      ]
    },
    {
      "cell_type": "code",
      "source": [],
      "metadata": {
        "id": "e1i2rPuF0F1n"
      },
      "execution_count": null,
      "outputs": []
    }
  ]
}