{
  "nbformat": 4,
  "nbformat_minor": 0,
  "metadata": {
    "colab": {
      "provenance": []
    },
    "kernelspec": {
      "name": "python3",
      "display_name": "Python 3"
    },
    "language_info": {
      "name": "python"
    }
  },
  "cells": [
    {
      "cell_type": "markdown",
      "source": [
        "LESSON 16 - DAY 5 - AVERAGE HEIGHT\n",
        "\n",
        "\n",
        "Instructions\n",
        "\n",
        "You are going to write a program that calculates the average student height from a List of heights.\n",
        "\n",
        "e.g. student_heights = [180, 124, 165, 173, 189, 169, 146]\n",
        "\n",
        "The average height can be calculated by adding all the heights together and dividing by the total number of heights.\n",
        "\n",
        "e.g.\n",
        "\n",
        "180 + 124 + 165 + 173 + 189 + 169 + 146 = 1146\n",
        "\n",
        "There are a total of 7 heights in student_heights\n",
        "\n",
        "1146 ÷ 7 = 163.71428571428572\n",
        "\n",
        "Average height rounded to the nearest whole number = 164\n",
        "\n",
        "Important You should not use the sum() or len() functions in your answer. You should try to replicate their functionality using what you have learnt about for loops.\n",
        "Example Input 1\n",
        "\n",
        "156 178 165 171 187\n",
        "\n",
        "In this case, student_heights would be a list that looks like: [156, 178, 165, 171, 187]\n",
        "Example Output 1\n",
        "\n",
        "total height = 857\n",
        "number of students = 5\n",
        "average height = 171\n",
        "\n",
        "Example Input 2\n",
        "\n",
        "151 145 179\n",
        "\n",
        "Example Output 2\n",
        "\n",
        "total height = 475\n",
        "number of students = 3\n",
        "average height = 158\n",
        "\n"
      ],
      "metadata": {
        "id": "sNDDU8A3HHgG"
      }
    },
    {
      "cell_type": "code",
      "execution_count": 1,
      "metadata": {
        "colab": {
          "base_uri": "https://localhost:8080/"
        },
        "id": "Ipo3CV2QHAk0",
        "outputId": "77541dfd-9332-42e3-e013-0e5484be7b8f"
      },
      "outputs": [
        {
          "output_type": "stream",
          "name": "stdout",
          "text": [
            "180 124 165 173 189 169 146\n",
            "total height = 1146\n",
            "number of students = 7 \n",
            "average height = 7\n"
          ]
        }
      ],
      "source": [
        "# Input a Python list of student heights\n",
        "student_heights = input().split()\n",
        "for n in range(0, len(student_heights)):\n",
        "  student_heights[n] = int(student_heights[n])\n",
        "# 🚨 Don't change the code above 👆\n",
        "\n",
        "# Write your code below this row 👇\n",
        "sum_heights = 0\n",
        "number_students = len(student_heights)\n",
        "for height in student_heights:\n",
        " sum_heights += height\n",
        "\n",
        "average_students = sum_heights / number_students\n",
        "\n",
        "print(f\"total height = {sum_heights}\")\n",
        "print(f\"number of students = {number_students} \")\n",
        "print(f\"average height = {number_students}\")"
      ]
    }
  ]
}